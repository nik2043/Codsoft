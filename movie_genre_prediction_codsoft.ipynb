{
  "cells": [
    {
      "cell_type": "markdown",
      "metadata": {
        "id": "view-in-github",
        "colab_type": "text"
      },
      "source": [
        "<a href=\"https://colab.research.google.com/github/nik2043/Codsoft/blob/main/movie_genre_prediction_codsoft.ipynb\" target=\"_parent\"><img src=\"https://colab.research.google.com/assets/colab-badge.svg\" alt=\"Open In Colab\"/></a>"
      ]
    },
    {
      "cell_type": "code",
      "execution_count": null,
      "id": "b7373c85",
      "metadata": {
        "id": "b7373c85"
      },
      "outputs": [],
      "source": [
        "# 🎬 Movie Genre Prediction using Plot Summary (Text Classification)\n",
        "\n",
        "# ✅ Objective:\n",
        "# Build a machine learning model that predicts the **genre** of a movie based on its **plot summary**,\n",
        "# using TF-IDF and classifiers like Naive Bayes, Logistic Regression, or Support Vector Machine (SVM).\n"
      ]
    },
    {
      "cell_type": "code",
      "execution_count": 9,
      "id": "d45460a1",
      "metadata": {
        "id": "d45460a1"
      },
      "outputs": [],
      "source": [
        "# 🧰 Required Libraries\n",
        "import pandas as pd\n",
        "import numpy as np\n",
        "import matplotlib.pyplot as plt\n",
        "import seaborn as sns\n",
        "\n",
        "from sklearn.model_selection import train_test_split\n",
        "from sklearn.feature_extraction.text import TfidfVectorizer\n",
        "from sklearn.naive_bayes import MultinomialNB\n",
        "from sklearn.linear_model import LogisticRegression\n",
        "from sklearn.svm import LinearSVC\n",
        "from sklearn.metrics import accuracy_score, classification_report, confusion_matrix\n"
      ]
    },
    {
      "cell_type": "code",
      "execution_count": 1,
      "id": "d1d1aa39",
      "metadata": {
        "colab": {
          "base_uri": "https://localhost:8080/",
          "height": 73
        },
        "id": "d1d1aa39",
        "outputId": "f7bfe5f2-b5ee-4355-989c-f6256e293b33"
      },
      "outputs": [
        {
          "output_type": "display_data",
          "data": {
            "text/plain": [
              "<IPython.core.display.HTML object>"
            ],
            "text/html": [
              "\n",
              "     <input type=\"file\" id=\"files-cb6d3188-4713-4757-879f-5d7d21437a6e\" name=\"files[]\" multiple disabled\n",
              "        style=\"border:none\" />\n",
              "     <output id=\"result-cb6d3188-4713-4757-879f-5d7d21437a6e\">\n",
              "      Upload widget is only available when the cell has been executed in the\n",
              "      current browser session. Please rerun this cell to enable.\n",
              "      </output>\n",
              "      <script>// Copyright 2017 Google LLC\n",
              "//\n",
              "// Licensed under the Apache License, Version 2.0 (the \"License\");\n",
              "// you may not use this file except in compliance with the License.\n",
              "// You may obtain a copy of the License at\n",
              "//\n",
              "//      http://www.apache.org/licenses/LICENSE-2.0\n",
              "//\n",
              "// Unless required by applicable law or agreed to in writing, software\n",
              "// distributed under the License is distributed on an \"AS IS\" BASIS,\n",
              "// WITHOUT WARRANTIES OR CONDITIONS OF ANY KIND, either express or implied.\n",
              "// See the License for the specific language governing permissions and\n",
              "// limitations under the License.\n",
              "\n",
              "/**\n",
              " * @fileoverview Helpers for google.colab Python module.\n",
              " */\n",
              "(function(scope) {\n",
              "function span(text, styleAttributes = {}) {\n",
              "  const element = document.createElement('span');\n",
              "  element.textContent = text;\n",
              "  for (const key of Object.keys(styleAttributes)) {\n",
              "    element.style[key] = styleAttributes[key];\n",
              "  }\n",
              "  return element;\n",
              "}\n",
              "\n",
              "// Max number of bytes which will be uploaded at a time.\n",
              "const MAX_PAYLOAD_SIZE = 100 * 1024;\n",
              "\n",
              "function _uploadFiles(inputId, outputId) {\n",
              "  const steps = uploadFilesStep(inputId, outputId);\n",
              "  const outputElement = document.getElementById(outputId);\n",
              "  // Cache steps on the outputElement to make it available for the next call\n",
              "  // to uploadFilesContinue from Python.\n",
              "  outputElement.steps = steps;\n",
              "\n",
              "  return _uploadFilesContinue(outputId);\n",
              "}\n",
              "\n",
              "// This is roughly an async generator (not supported in the browser yet),\n",
              "// where there are multiple asynchronous steps and the Python side is going\n",
              "// to poll for completion of each step.\n",
              "// This uses a Promise to block the python side on completion of each step,\n",
              "// then passes the result of the previous step as the input to the next step.\n",
              "function _uploadFilesContinue(outputId) {\n",
              "  const outputElement = document.getElementById(outputId);\n",
              "  const steps = outputElement.steps;\n",
              "\n",
              "  const next = steps.next(outputElement.lastPromiseValue);\n",
              "  return Promise.resolve(next.value.promise).then((value) => {\n",
              "    // Cache the last promise value to make it available to the next\n",
              "    // step of the generator.\n",
              "    outputElement.lastPromiseValue = value;\n",
              "    return next.value.response;\n",
              "  });\n",
              "}\n",
              "\n",
              "/**\n",
              " * Generator function which is called between each async step of the upload\n",
              " * process.\n",
              " * @param {string} inputId Element ID of the input file picker element.\n",
              " * @param {string} outputId Element ID of the output display.\n",
              " * @return {!Iterable<!Object>} Iterable of next steps.\n",
              " */\n",
              "function* uploadFilesStep(inputId, outputId) {\n",
              "  const inputElement = document.getElementById(inputId);\n",
              "  inputElement.disabled = false;\n",
              "\n",
              "  const outputElement = document.getElementById(outputId);\n",
              "  outputElement.innerHTML = '';\n",
              "\n",
              "  const pickedPromise = new Promise((resolve) => {\n",
              "    inputElement.addEventListener('change', (e) => {\n",
              "      resolve(e.target.files);\n",
              "    });\n",
              "  });\n",
              "\n",
              "  const cancel = document.createElement('button');\n",
              "  inputElement.parentElement.appendChild(cancel);\n",
              "  cancel.textContent = 'Cancel upload';\n",
              "  const cancelPromise = new Promise((resolve) => {\n",
              "    cancel.onclick = () => {\n",
              "      resolve(null);\n",
              "    };\n",
              "  });\n",
              "\n",
              "  // Wait for the user to pick the files.\n",
              "  const files = yield {\n",
              "    promise: Promise.race([pickedPromise, cancelPromise]),\n",
              "    response: {\n",
              "      action: 'starting',\n",
              "    }\n",
              "  };\n",
              "\n",
              "  cancel.remove();\n",
              "\n",
              "  // Disable the input element since further picks are not allowed.\n",
              "  inputElement.disabled = true;\n",
              "\n",
              "  if (!files) {\n",
              "    return {\n",
              "      response: {\n",
              "        action: 'complete',\n",
              "      }\n",
              "    };\n",
              "  }\n",
              "\n",
              "  for (const file of files) {\n",
              "    const li = document.createElement('li');\n",
              "    li.append(span(file.name, {fontWeight: 'bold'}));\n",
              "    li.append(span(\n",
              "        `(${file.type || 'n/a'}) - ${file.size} bytes, ` +\n",
              "        `last modified: ${\n",
              "            file.lastModifiedDate ? file.lastModifiedDate.toLocaleDateString() :\n",
              "                                    'n/a'} - `));\n",
              "    const percent = span('0% done');\n",
              "    li.appendChild(percent);\n",
              "\n",
              "    outputElement.appendChild(li);\n",
              "\n",
              "    const fileDataPromise = new Promise((resolve) => {\n",
              "      const reader = new FileReader();\n",
              "      reader.onload = (e) => {\n",
              "        resolve(e.target.result);\n",
              "      };\n",
              "      reader.readAsArrayBuffer(file);\n",
              "    });\n",
              "    // Wait for the data to be ready.\n",
              "    let fileData = yield {\n",
              "      promise: fileDataPromise,\n",
              "      response: {\n",
              "        action: 'continue',\n",
              "      }\n",
              "    };\n",
              "\n",
              "    // Use a chunked sending to avoid message size limits. See b/62115660.\n",
              "    let position = 0;\n",
              "    do {\n",
              "      const length = Math.min(fileData.byteLength - position, MAX_PAYLOAD_SIZE);\n",
              "      const chunk = new Uint8Array(fileData, position, length);\n",
              "      position += length;\n",
              "\n",
              "      const base64 = btoa(String.fromCharCode.apply(null, chunk));\n",
              "      yield {\n",
              "        response: {\n",
              "          action: 'append',\n",
              "          file: file.name,\n",
              "          data: base64,\n",
              "        },\n",
              "      };\n",
              "\n",
              "      let percentDone = fileData.byteLength === 0 ?\n",
              "          100 :\n",
              "          Math.round((position / fileData.byteLength) * 100);\n",
              "      percent.textContent = `${percentDone}% done`;\n",
              "\n",
              "    } while (position < fileData.byteLength);\n",
              "  }\n",
              "\n",
              "  // All done.\n",
              "  yield {\n",
              "    response: {\n",
              "      action: 'complete',\n",
              "    }\n",
              "  };\n",
              "}\n",
              "\n",
              "scope.google = scope.google || {};\n",
              "scope.google.colab = scope.google.colab || {};\n",
              "scope.google.colab._files = {\n",
              "  _uploadFiles,\n",
              "  _uploadFilesContinue,\n",
              "};\n",
              "})(self);\n",
              "</script> "
            ]
          },
          "metadata": {}
        },
        {
          "output_type": "stream",
          "name": "stdout",
          "text": [
            "Saving imdb (1000 movies) in june 2022.csv to imdb (1000 movies) in june 2022.csv\n"
          ]
        }
      ],
      "source": [
        "# 📥 Step 1: Load Dataset\n",
        "\n",
        "# Upload dataset from local system\n",
        "from google.colab import files\n",
        "uploaded = files.upload()\n"
      ]
    },
    {
      "cell_type": "code",
      "execution_count": null,
      "id": "405424c6",
      "metadata": {
        "id": "405424c6"
      },
      "outputs": [],
      "source": [
        "# Read the dataset\n",
        "import pandas as pd\n",
        "df = pd.read_csv('imdb (1000 movies) in june 2022.csv')  # Replace with your dataset name\n",
        "# Inspect the column names\n",
        "print(df.columns)\n",
        "# The correct column names are 'genre' and 'DETAIL ABOUT MOVIE\\n'\n",
        "df = df[['genre', 'DETAIL ABOUT MOVIE\\n']]\n",
        "df.dropna(inplace=True)\n",
        "df.head()"
      ]
    },
    {
      "cell_type": "code",
      "execution_count": 11,
      "id": "14ac5e4a",
      "metadata": {
        "id": "14ac5e4a"
      },
      "outputs": [],
      "source": [
        "# 📊 Step 2: Encode Labels and Split Data\n",
        "from sklearn.preprocessing import LabelEncoder\n",
        "\n",
        "# Encode genres into numbers\n",
        "le = LabelEncoder()\n",
        "df['genre_encoded'] = le.fit_transform(df['genre'])\n",
        "\n",
        "# Split dataset\n",
        "X_train, X_test, y_train, y_test = train_test_split(df['DETAIL ABOUT MOVIE\\n'], df['genre_encoded'], test_size=0.2, random_state=42)"
      ]
    },
    {
      "cell_type": "code",
      "execution_count": 12,
      "id": "dc45e6a8",
      "metadata": {
        "id": "dc45e6a8"
      },
      "outputs": [],
      "source": [
        "# ✨ Step 3: TF-IDF Vectorization\n",
        "tfidf = TfidfVectorizer(stop_words='english', max_features=5000)\n",
        "X_train_tf = tfidf.fit_transform(X_train)\n",
        "X_test_tf = tfidf.transform(X_test)\n"
      ]
    },
    {
      "cell_type": "code",
      "execution_count": 13,
      "id": "4c17e9c0",
      "metadata": {
        "id": "4c17e9c0"
      },
      "outputs": [],
      "source": [
        "# 🤖 Step 4: Train Models\n",
        "\n",
        "# 1. Naive Bayes\n",
        "nb = MultinomialNB()\n",
        "nb.fit(X_train_tf, y_train)\n",
        "nb_pred = nb.predict(X_test_tf)\n",
        "\n",
        "# 2. Logistic Regression\n",
        "lr = LogisticRegression(max_iter=1000)\n",
        "lr.fit(X_train_tf, y_train)\n",
        "lr_pred = lr.predict(X_test_tf)\n",
        "\n",
        "# 3. Support Vector Machine\n",
        "svm = LinearSVC()\n",
        "svm.fit(X_train_tf, y_train)\n",
        "svm_pred = svm.predict(X_test_tf)\n"
      ]
    },
    {
      "cell_type": "code",
      "execution_count": null,
      "id": "ac94e9ee",
      "metadata": {
        "id": "ac94e9ee"
      },
      "outputs": [],
      "source": [
        "# 📈 Step 5: Evaluate Models\n",
        "def evaluate_model(name, y_true, y_pred):\n",
        "    print(f\"\\nModel: {name}\")\n",
        "    print(\"Accuracy:\", accuracy_score(y_true, y_pred))\n",
        "    # Get the unique labels present in y_true\n",
        "    unique_labels = np.unique(y_true)\n",
        "    # Get the corresponding target names using the inverse transform of the label encoder\n",
        "    target_names = le.inverse_transform(unique_labels)\n",
        "    print(\"Classification Report:\\n\", classification_report(y_true, y_pred, labels=unique_labels, target_names=target_names, zero_division=0))\n",
        "    cm = confusion_matrix(y_true, y_pred, labels=unique_labels)\n",
        "    sns.heatmap(cm, annot=True, fmt='d', cmap='Greens', xticklabels=target_names, yticklabels=target_names)\n",
        "    plt.title(f\"Confusion Matrix - {name}\")\n",
        "    plt.xlabel(\"Predicted\")\n",
        "    plt.ylabel(\"Actual\")\n",
        "    plt.show()\n",
        "\n",
        "evaluate_model(\"Naive Bayes\", y_test, nb_pred)\n",
        "evaluate_model(\"Logistic Regression\", y_test, lr_pred)\n",
        "evaluate_model(\"SVM\", y_test, svm_pred)"
      ]
    },
    {
      "cell_type": "code",
      "execution_count": null,
      "id": "c67816bf",
      "metadata": {
        "id": "c67816bf"
      },
      "outputs": [],
      "source": [
        "# 🧪 Step 6: Predict Genre from New Plot\n",
        "def predict_genre(plot):\n",
        "    vector = tfidf.transform([plot])\n",
        "    genre_num = svm.predict(vector)[0]\n",
        "    return le.inverse_transform([genre_num])[0]\n",
        "\n",
        "# Example:\n",
        "plot = plot = (\"A brilliant but unorthodox detective investigates a series of brutal murders...\")\n",
        "\n",
        "\n",
        "print(\"Predicted Genre:\", predict_genre(plot))"
      ]
    }
  ],
  "metadata": {
    "language": "python",
    "colab": {
      "provenance": [],
      "include_colab_link": true
    },
    "language_info": {
      "name": "python"
    },
    "kernelspec": {
      "name": "python3",
      "display_name": "Python 3"
    }
  },
  "nbformat": 4,
  "nbformat_minor": 5
}